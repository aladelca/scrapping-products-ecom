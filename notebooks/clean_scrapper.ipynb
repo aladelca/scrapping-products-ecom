{
 "cells": [
  {
   "cell_type": "code",
   "execution_count": 1,
   "metadata": {},
   "outputs": [],
   "source": [
    "%load_ext autoreload\n",
    "%autoreload 2"
   ]
  },
  {
   "cell_type": "code",
   "execution_count": 2,
   "metadata": {},
   "outputs": [],
   "source": [
    "import os\n",
    "os.chdir('../src')\n"
   ]
  },
  {
   "cell_type": "code",
   "execution_count": 11,
   "metadata": {},
   "outputs": [],
   "source": [
    "from scraper.scraper import scrape_range\n",
    "base_path = \"https://listado.mercadolibre.com.pe/ropa-accesorios/calzado/zapatillas\"\n",
    "\n",
    "df = scrape_range(base_path, 1, 20)\n"
   ]
  },
  {
   "cell_type": "code",
   "execution_count": 15,
   "metadata": {},
   "outputs": [],
   "source": [
    "df.to_parquet(\"../data/raw/raw_data.parquet\")"
   ]
  },
  {
   "cell_type": "code",
   "execution_count": 15,
   "metadata": {},
   "outputs": [
    {
     "data": {
      "text/html": [
       "<div>\n",
       "<style scoped>\n",
       "    .dataframe tbody tr th:only-of-type {\n",
       "        vertical-align: middle;\n",
       "    }\n",
       "\n",
       "    .dataframe tbody tr th {\n",
       "        vertical-align: top;\n",
       "    }\n",
       "\n",
       "    .dataframe thead th {\n",
       "        text-align: right;\n",
       "    }\n",
       "</style>\n",
       "<table border=\"1\" class=\"dataframe\">\n",
       "  <thead>\n",
       "    <tr style=\"text-align: right;\">\n",
       "      <th></th>\n",
       "      <th>description</th>\n",
       "      <th>brand</th>\n",
       "      <th>original_price</th>\n",
       "      <th>offer_price</th>\n",
       "    </tr>\n",
       "  </thead>\n",
       "  <tbody>\n",
       "    <tr>\n",
       "      <th>0</th>\n",
       "      <td>Aqua Shoes Sun Negro | Aquashoes Suela Gruesa ...</td>\n",
       "      <td>None</td>\n",
       "      <td>None</td>\n",
       "      <td>45.00</td>\n",
       "    </tr>\n",
       "    <tr>\n",
       "      <th>1</th>\n",
       "      <td>Zapatilla Skechers Uno Gen1-shimmer 155196/wht...</td>\n",
       "      <td>SKECHERS</td>\n",
       "      <td>None</td>\n",
       "      <td>279.00</td>\n",
       "    </tr>\n",
       "    <tr>\n",
       "      <th>2</th>\n",
       "      <td>Zapatillas Originales Hombre Nike Tiempo Legen...</td>\n",
       "      <td>NIKE</td>\n",
       "      <td>S/\\n289\\n,\\n90</td>\n",
       "      <td>173.94</td>\n",
       "    </tr>\n",
       "    <tr>\n",
       "      <th>3</th>\n",
       "      <td>Aqua Shoes Sun Negro | Aquashoes Suela Gruesa ...</td>\n",
       "      <td>None</td>\n",
       "      <td>None</td>\n",
       "      <td>45.00</td>\n",
       "    </tr>\n",
       "    <tr>\n",
       "      <th>4</th>\n",
       "      <td>Zapatilla Skechers Uno Gen1-shimmer 155196/wht...</td>\n",
       "      <td>SKECHERS</td>\n",
       "      <td>None</td>\n",
       "      <td>279.00</td>\n",
       "    </tr>\n",
       "  </tbody>\n",
       "</table>\n",
       "</div>"
      ],
      "text/plain": [
       "                                         description     brand  \\\n",
       "0  Aqua Shoes Sun Negro | Aquashoes Suela Gruesa ...      None   \n",
       "1  Zapatilla Skechers Uno Gen1-shimmer 155196/wht...  SKECHERS   \n",
       "2  Zapatillas Originales Hombre Nike Tiempo Legen...      NIKE   \n",
       "3  Aqua Shoes Sun Negro | Aquashoes Suela Gruesa ...      None   \n",
       "4  Zapatilla Skechers Uno Gen1-shimmer 155196/wht...  SKECHERS   \n",
       "\n",
       "   original_price  offer_price  \n",
       "0            None        45.00  \n",
       "1            None       279.00  \n",
       "2  S/\\n289\\n,\\n90       173.94  \n",
       "3            None        45.00  \n",
       "4            None       279.00  "
      ]
     },
     "execution_count": 15,
     "metadata": {},
     "output_type": "execute_result"
    }
   ],
   "source": [
    "# Preprocessing\n",
    "# Eliminar los que tengan descripción y offer_price en nulo\n",
    "import pandas as pd\n",
    "df = pd.read_parquet(\"../data/raw/raw_data.parquet\")\n",
    "def filter_null(df, field):\n",
    "    return df[df[field].notnull()]\n",
    "\n",
    "df = filter_null(df, 'description')\n",
    "df = filter_null(df, 'offer_price')\n",
    "\n",
    "def clean_price(price):\n",
    "    \"\"\"\n",
    "    Limpia el string de precio para obtener solo el valor numérico.\n",
    "    Maneja casos como 'S/279' o 'S/248,40' convirtiéndolos a 279.0 y 248.40 respectivamente.\n",
    "    \"\"\"\n",
    "    if not isinstance(price, str) or pd.isna(price):\n",
    "        return None\n",
    "    \n",
    "    # Eliminar el símbolo de moneda y espacios en blanco\n",
    "    price = price.replace(\"S/\", \"\").strip()\n",
    "    \n",
    "    # Si hay una coma, tratarla como separador decimal\n",
    "    if \",\" in price:\n",
    "        parts = price.split(\",\")\n",
    "        price = f\"{parts[0].strip()}.{parts[1].strip()}\"\n",
    "    \n",
    "    # Eliminar cualquier carácter que no sea número o punto decimal\n",
    "    price = \"\".join(char for char in price if char.isdigit() or char == \".\")\n",
    "    \n",
    "    try:\n",
    "        return float(price)\n",
    "    except (ValueError, TypeError):\n",
    "        return None\n",
    "\n",
    "\n",
    "df[\"offer_price\"] = df['offer_price'].apply(clean_price)\n",
    "df.head()\n"
   ]
  }
 ],
 "metadata": {
  "kernelspec": {
   "display_name": ".venv",
   "language": "python",
   "name": "python3"
  },
  "language_info": {
   "codemirror_mode": {
    "name": "ipython",
    "version": 3
   },
   "file_extension": ".py",
   "mimetype": "text/x-python",
   "name": "python",
   "nbconvert_exporter": "python",
   "pygments_lexer": "ipython3",
   "version": "3.12.7"
  }
 },
 "nbformat": 4,
 "nbformat_minor": 2
}
